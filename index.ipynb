{
 "cells": [
  {
   "cell_type": "code",
   "execution_count": null,
   "metadata": {
    "collapsed": true,
    "slideshow": {
     "slide_type": "skip"
    }
   },
   "outputs": [],
   "source": [
    "%%bash\n",
    "\n",
    "rm -f quine{,.c}\n",
    "rm -f double_quine{,.c}"
   ]
  },
  {
   "cell_type": "markdown",
   "metadata": {
    "slideshow": {
     "slide_type": "slide"
    }
   },
   "source": [
    "# <center>Feeding Rice to the Snake</center>"
   ]
  },
  {
   "cell_type": "markdown",
   "metadata": {
    "collapsed": true,
    "slideshow": {
     "slide_type": "slide"
    }
   },
   "source": [
    "<center>![hands](img/hands.jpg)</center>"
   ]
  },
  {
   "cell_type": "markdown",
   "metadata": {
    "collapsed": true,
    "slideshow": {
     "slide_type": "slide"
    }
   },
   "source": [
    "<center>![barber](img/barber.gif)</center>"
   ]
  },
  {
   "cell_type": "markdown",
   "metadata": {
    "slideshow": {
     "slide_type": "slide"
    }
   },
   "source": [
    "<center>![russe](img/russel.jpg)</center>"
   ]
  },
  {
   "cell_type": "markdown",
   "metadata": {
    "slideshow": {
     "slide_type": "slide"
    }
   },
   "source": [
    "# <center>Quine</center>"
   ]
  },
  {
   "cell_type": "markdown",
   "metadata": {},
   "source": [
    "## <center>Using Python</center>"
   ]
  },
  {
   "cell_type": "code",
   "execution_count": null,
   "metadata": {
    "scrolled": false,
    "slideshow": {
     "slide_type": "slide"
    }
   },
   "outputs": [],
   "source": [
    "print('hello')"
   ]
  },
  {
   "cell_type": "code",
   "execution_count": null,
   "metadata": {
    "slideshow": {
     "slide_type": "fragment"
    }
   },
   "outputs": [],
   "source": [
    "print(\"print('hello')\")"
   ]
  },
  {
   "cell_type": "code",
   "execution_count": null,
   "metadata": {
    "slideshow": {
     "slide_type": "fragment"
    }
   },
   "outputs": [],
   "source": [
    "print(\"\"\"print(\"print('hello')\")\"\"\")"
   ]
  },
  {
   "cell_type": "code",
   "execution_count": null,
   "metadata": {
    "slideshow": {
     "slide_type": "slide"
    }
   },
   "outputs": [],
   "source": [
    "source_code = \"print('hello')\"\n",
    "\n",
    "print('{}'.format(list(map(ord, source_code))))"
   ]
  },
  {
   "cell_type": "code",
   "execution_count": null,
   "metadata": {
    "slideshow": {
     "slide_type": "fragment"
    }
   },
   "outputs": [],
   "source": [
    "code = [112, 114, 105, 110, 116, 40, 39, 104, 101, 108, 108, 111, 39, 41]\n",
    "\n",
    "print(''.join(map(chr, code))) "
   ]
  },
  {
   "cell_type": "code",
   "execution_count": null,
   "metadata": {
    "slideshow": {
     "slide_type": "fragment"
    }
   },
   "outputs": [],
   "source": [
    "code = [112, 114, 105, 110, 116, 40, 39, 104, 101, 108, 108, 111, 39, 41]\n",
    "\n",
    "print('code = {}\\n'.format(code))\n",
    "print(''.join(map(chr, code)))"
   ]
  },
  {
   "cell_type": "code",
   "execution_count": null,
   "metadata": {
    "slideshow": {
     "slide_type": "slide"
    }
   },
   "outputs": [],
   "source": [
    "source_code = r\"\"\"\n",
    "print('code = {}\\n'.format(code))\n",
    "print(''.join(map(chr, code)))\n",
    "\"\"\"\n",
    "\n",
    "print('{!s:.70}…'.format(list(map(ord, source_code))))"
   ]
  },
  {
   "cell_type": "code",
   "execution_count": null,
   "metadata": {
    "slideshow": {
     "slide_type": "fragment"
    }
   },
   "outputs": [],
   "source": [
    "code = [112, 114, 105, 110, 116, 40, 39, 99, 111, 100, 101, 32, 61, 32, 123, 125, 92, 110, 39, 46, 102, 111, 114, 109, 97, 116, 40, 99, 111, 100, 101, 41, 41, 10, 112, 114, 105, 110, 116, 40, 39, 39, 46, 106, 111, 105, 110, 40, 109, 97, 112, 40, 99, 104, 114, 44, 32, 99, 111, 100, 101, 41, 41, 41]\n",
    "\n",
    "print('code = {}\\n'.format(code))\n",
    "print(''.join(map(chr, code)))"
   ]
  },
  {
   "cell_type": "markdown",
   "metadata": {
    "slideshow": {
     "slide_type": "slide"
    }
   },
   "source": [
    "## <center>Using C</center>"
   ]
  },
  {
   "cell_type": "code",
   "execution_count": null,
   "metadata": {
    "slideshow": {
     "slide_type": "slide"
    }
   },
   "outputs": [],
   "source": [
    "%%file quine.c\n",
    "\n",
    "char code[] = {112, 114, 105, 110, 116, 40, 39, 104, 101, 108, 108, 111, 39, 41, 0};\n",
    "\n",
    "#include <stdio.h>\n",
    "\n",
    "int main(void) {\n",
    "\n",
    "    int i;\n",
    "\n",
    "    printf(\"char code[] = {\");\n",
    "    for (i = 0 ; code[i]; i++) printf(\"%d, \", code[i]);\n",
    "    printf(\"0};\\n\\n\");\n",
    "    for (i = 0 ; code[i]; i++) printf(\"%c\", code[i]);\n",
    "\n",
    "    return 0;\n",
    "}"
   ]
  },
  {
   "cell_type": "code",
   "execution_count": null,
   "metadata": {
    "slideshow": {
     "slide_type": "fragment"
    }
   },
   "outputs": [],
   "source": [
    "!gcc -o quine quine.c && ./quine"
   ]
  },
  {
   "cell_type": "code",
   "execution_count": null,
   "metadata": {
    "slideshow": {
     "slide_type": "slide"
    }
   },
   "outputs": [],
   "source": [
    "source_code = r\"\"\"\n",
    "#include <stdio.h>\n",
    "\n",
    "int main(void) {\n",
    "\n",
    "    int i;\n",
    "\n",
    "    printf(\"char code[] = {\");\n",
    "    for (i = 0 ; code[i]; i++) printf(\"%d, \", code[i]);\n",
    "    printf(\"0};\\n\\n\");\n",
    "    for (i = 0 ; code[i]; i++) printf(\"%c\", code[i]);\n",
    "\n",
    "    return 0;\n",
    "}\n",
    "\"\"\"\n",
    "\n",
    "print('{!s:.70}…'.format(list(map(ord, source_code))))"
   ]
  },
  {
   "cell_type": "code",
   "execution_count": null,
   "metadata": {
    "slideshow": {
     "slide_type": "slide"
    }
   },
   "outputs": [],
   "source": [
    "%%file quine.c\n",
    "\n",
    "char code[] = {35, 105, 110, 99, 108, 117, 100, 101, 32, 60, 115, 116, 100, 105, 111, 46, 104, 62, 10, 10, 105, 110, 116, 32, 109, 97, 105, 110, 40, 118, 111, 105, 100, 41, 32, 123, 10, 10, 32, 32, 32, 32, 105, 110, 116, 32, 105, 59, 10, 10, 32, 32, 32, 32, 112, 114, 105, 110, 116, 102, 40, 34, 99, 104, 97, 114, 32, 99, 111, 100, 101, 91, 93, 32, 61, 32, 123, 34, 41, 59, 10, 32, 32, 32, 32, 102, 111, 114, 32, 40, 105, 32, 61, 32, 48, 32, 59, 32, 99, 111, 100, 101, 91, 105, 93, 59, 32, 105, 43, 43, 41, 32, 112, 114, 105, 110, 116, 102, 40, 34, 37, 100, 44, 32, 34, 44, 32, 99, 111, 100, 101, 91, 105, 93, 41, 59, 10, 32, 32, 32, 32, 112, 114, 105, 110, 116, 102, 40, 34, 48, 125, 59, 92, 110, 92, 110, 34, 41, 59, 10, 32, 32, 32, 32, 102, 111, 114, 32, 40, 105, 32, 61, 32, 48, 32, 59, 32, 99, 111, 100, 101, 91, 105, 93, 59, 32, 105, 43, 43, 41, 32, 112, 114, 105, 110, 116, 102, 40, 34, 37, 99, 34, 44, 32, 99, 111, 100, 101, 91, 105, 93, 41, 59, 10, 10, 32, 32, 32, 32, 114, 101, 116, 117, 114, 110, 32, 48, 59, 10, 125, 0};\n",
    "\n",
    "#include <stdio.h>\n",
    "\n",
    "int main(void) {\n",
    "\n",
    "    int i;\n",
    "\n",
    "    printf(\"char code[] = {\");\n",
    "    for (i = 0 ; code[i]; i++) printf(\"%d, \", code[i]);\n",
    "    printf(\"0};\\n\\n\");\n",
    "    for (i = 0 ; code[i]; i++) printf(\"%c\", code[i]);\n",
    "\n",
    "    return 0;\n",
    "}"
   ]
  },
  {
   "cell_type": "code",
   "execution_count": null,
   "metadata": {
    "slideshow": {
     "slide_type": "slide"
    }
   },
   "outputs": [],
   "source": [
    "!gcc -o quine quine.c && ./quine | cut -b-70"
   ]
  },
  {
   "cell_type": "markdown",
   "metadata": {
    "slideshow": {
     "slide_type": "slide"
    }
   },
   "source": [
    "# <center>Double Quine</center>\n",
    "\n",
    "## <center>C $\\rightarrow$ Python $\\rightarrow$ C</center>"
   ]
  },
  {
   "cell_type": "code",
   "execution_count": null,
   "metadata": {
    "slideshow": {
     "slide_type": "slide"
    }
   },
   "outputs": [],
   "source": [
    "%%file double_quine.c\n",
    "\n",
    "char code[] = {112, 114, 105, 110, 116, 40, 39, 104, 101, 108, 108, 111, 39, 41, 0};\n",
    "\n",
    "#include <stdio.h>\n",
    "\n",
    "int main(void) {\n",
    "\n",
    "    int i;\n",
    "\n",
    "    printf(\"code = [\");\n",
    "    for (i = 0 ; code[i]; i++) printf(\"%d, \", code[i]);\n",
    "    printf(\"0]\\n\\n\");\n",
    "    for (i = 0 ; code[i]; i++) printf(\"%c\", code[i]);\n",
    "    \n",
    "    return 0;\n",
    "}\n"
   ]
  },
  {
   "cell_type": "code",
   "execution_count": null,
   "metadata": {
    "slideshow": {
     "slide_type": "fragment"
    }
   },
   "outputs": [],
   "source": [
    "!gcc -o double_quine double_quine.c && ./double_quine | python3"
   ]
  },
  {
   "cell_type": "code",
   "execution_count": null,
   "metadata": {
    "slideshow": {
     "slide_type": "slide"
    }
   },
   "outputs": [],
   "source": [
    "source_code=r\"\"\"\n",
    "print('char code[] = {{{}}};\\n'.format(', '.join(map(str, code))))\n",
    "\n",
    "print(r'''#include <stdio.h>\n",
    "\n",
    "int main(void) {\n",
    "\n",
    "    int i;\n",
    "\n",
    "    printf(\"code = [\");\n",
    "    for (i = 0 ; code[i]; i++) printf(\"%d, \", code[i]);\n",
    "    printf(\"0]\\n\\n\");\n",
    "    for (i = 0 ; code[i]; i++) printf(\"%c\", code[i]);\n",
    "    \n",
    "    return 0;\n",
    "}''')\n",
    "\"\"\"\n",
    "\n",
    "print('{!s:.70}…'.format(list(map(ord, source_code))))"
   ]
  },
  {
   "cell_type": "code",
   "execution_count": null,
   "metadata": {
    "slideshow": {
     "slide_type": "slide"
    }
   },
   "outputs": [],
   "source": [
    "%%file double_quine.c\n",
    "\n",
    "char code[] = {112, 114, 105, 110, 116, 40, 39, 99, 104, 97, 114, 32, 99, 111, 100, 101, 91, 93, 32, 61, 32, 123, 123, 123, 125, 125, 125, 59, 92, 110, 39, 46, 102, 111, 114, 109, 97, 116, 40, 39, 44, 32, 39, 46, 106, 111, 105, 110, 40, 109, 97, 112, 40, 115, 116, 114, 44, 32, 99, 111, 100, 101, 41, 41, 41, 41, 10, 10, 112, 114, 105, 110, 116, 40, 114, 39, 39, 39, 35, 105, 110, 99, 108, 117, 100, 101, 32, 60, 115, 116, 100, 105, 111, 46, 104, 62, 10, 10, 105, 110, 116, 32, 109, 97, 105, 110, 40, 118, 111, 105, 100, 41, 32, 123, 10, 10, 32, 32, 32, 32, 105, 110, 116, 32, 105, 59, 10, 10, 32, 32, 32, 32, 112, 114, 105, 110, 116, 102, 40, 34, 99, 111, 100, 101, 32, 61, 32, 91, 34, 41, 59, 10, 32, 32, 32, 32, 102, 111, 114, 32, 40, 105, 32, 61, 32, 48, 32, 59, 32, 99, 111, 100, 101, 91, 105, 93, 59, 32, 105, 43, 43, 41, 32, 112, 114, 105, 110, 116, 102, 40, 34, 37, 100, 44, 32, 34, 44, 32, 99, 111, 100, 101, 91, 105, 93, 41, 59, 10, 32, 32, 32, 32, 112, 114, 105, 110, 116, 102, 40, 34, 48, 93, 92, 110, 92, 110, 34, 41, 59, 10, 32, 32, 32, 32, 102, 111, 114, 32, 40, 105, 32, 61, 32, 48, 32, 59, 32, 99, 111, 100, 101, 91, 105, 93, 59, 32, 105, 43, 43, 41, 32, 112, 114, 105, 110, 116, 102, 40, 34, 37, 99, 34, 44, 32, 99, 111, 100, 101, 91, 105, 93, 41, 59, 10, 32, 32, 32, 32, 10, 32, 32, 32, 32, 114, 101, 116, 117, 114, 110, 32, 48, 59, 10, 125, 39, 39, 39, 41, 0};\n",
    "\n",
    "#include <stdio.h>\n",
    "\n",
    "int main(void) {\n",
    "\n",
    "    int i;\n",
    "\n",
    "    printf(\"code = [\");\n",
    "    for (i = 0 ; code[i]; i++) printf(\"%d, \", code[i]);\n",
    "    printf(\"0]\\n\\n\");\n",
    "    for (i = 0 ; code[i]; i++) printf(\"%c\", code[i]);\n",
    "    \n",
    "    return 0;\n",
    "}\n"
   ]
  },
  {
   "cell_type": "code",
   "execution_count": null,
   "metadata": {
    "slideshow": {
     "slide_type": "slide"
    }
   },
   "outputs": [],
   "source": [
    "!gcc -o double_quine double_quine.c && ./double_quine | cut -b-70"
   ]
  },
  {
   "cell_type": "code",
   "execution_count": null,
   "metadata": {
    "slideshow": {
     "slide_type": "slide"
    }
   },
   "outputs": [],
   "source": [
    "!gcc -o double_quine double_quine.c && ./double_quine | python3 | cut -b-70"
   ]
  },
  {
   "cell_type": "markdown",
   "metadata": {
    "slideshow": {
     "slide_type": "slide"
    }
   },
   "source": [
    "# <center>Universal function</center>"
   ]
  },
  {
   "cell_type": "code",
   "execution_count": null,
   "metadata": {
    "slideshow": {
     "slide_type": "slide"
    }
   },
   "outputs": [],
   "source": [
    "source_code = \"print('hello')\"\n",
    "\n",
    "exec(source_code)"
   ]
  },
  {
   "cell_type": "code",
   "execution_count": null,
   "metadata": {
    "collapsed": true,
    "slideshow": {
     "slide_type": "fragment"
    }
   },
   "outputs": [],
   "source": [
    "source_code = \"def F(x): return 'Hello, {}!'.format(x)\"\n",
    "\n",
    "exec(source_code)"
   ]
  },
  {
   "cell_type": "code",
   "execution_count": null,
   "metadata": {
    "slideshow": {
     "slide_type": "fragment"
    }
   },
   "outputs": [],
   "source": [
    "print(F('world'))"
   ]
  },
  {
   "cell_type": "code",
   "execution_count": null,
   "metadata": {
    "slideshow": {
     "slide_type": "slide"
    }
   },
   "outputs": [],
   "source": [
    "source_code = \"def G(x): return 'Hello, {}!'.format(x)\"\n",
    "environment = {}\n",
    "\n",
    "exec(source_code, {}, environment)\n",
    "environment"
   ]
  },
  {
   "cell_type": "code",
   "execution_count": null,
   "metadata": {
    "slideshow": {
     "slide_type": "fragment"
    }
   },
   "outputs": [],
   "source": [
    "list(environment.values())[0]"
   ]
  },
  {
   "cell_type": "code",
   "execution_count": null,
   "metadata": {
    "slideshow": {
     "slide_type": "fragment"
    }
   },
   "outputs": [],
   "source": [
    "F = list(environment.values())[0]\n",
    "\n",
    "print(F('world'))"
   ]
  },
  {
   "cell_type": "code",
   "execution_count": null,
   "metadata": {
    "collapsed": true,
    "slideshow": {
     "slide_type": "slide"
    }
   },
   "outputs": [],
   "source": [
    "GLOBAL_ENVIRONMENT = {}\n",
    "\n",
    "def U(f, x):\n",
    "    environment = {}\n",
    "    exec(f, GLOBAL_ENVIRONMENT.copy(), environment)\n",
    "    F = list(environment.values())[0]\n",
    "    return F(x)"
   ]
  },
  {
   "cell_type": "code",
   "execution_count": null,
   "metadata": {
    "slideshow": {
     "slide_type": "fragment"
    }
   },
   "outputs": [],
   "source": [
    "f = \"def G(x): return 'Hello, {}!'.format(x)\"\n",
    "x = 'world'\n",
    "\n",
    "print(U(f, x))"
   ]
  },
  {
   "cell_type": "markdown",
   "metadata": {
    "slideshow": {
     "slide_type": "slide"
    }
   },
   "source": [
    "# <center>Curryfication</center>"
   ]
  },
  {
   "cell_type": "code",
   "execution_count": null,
   "metadata": {
    "slideshow": {
     "slide_type": "slide"
    }
   },
   "outputs": [],
   "source": [
    "def F(x, y):\n",
    "    return x.format(y)\n",
    "\n",
    "print(F('Hello, {}!', 'world'))"
   ]
  },
  {
   "cell_type": "code",
   "execution_count": null,
   "metadata": {
    "collapsed": true,
    "slideshow": {
     "slide_type": "fragment"
    }
   },
   "outputs": [],
   "source": [
    "def G(x):\n",
    "    def F(x, y):\n",
    "        return x.format(y)\n",
    "    return F(x, 'world')"
   ]
  },
  {
   "cell_type": "code",
   "execution_count": null,
   "metadata": {
    "slideshow": {
     "slide_type": "fragment"
    }
   },
   "outputs": [],
   "source": [
    "print(G('Hello, {}!'))\n",
    "print(G('Goodbye {}!'))"
   ]
  },
  {
   "cell_type": "code",
   "execution_count": null,
   "metadata": {
    "collapsed": true,
    "slideshow": {
     "slide_type": "slide"
    }
   },
   "outputs": [],
   "source": [
    "source_code = r\"\"\"\n",
    "def F(x, y):\n",
    "    return x.format(y)\n",
    "\"\"\""
   ]
  },
  {
   "cell_type": "code",
   "execution_count": null,
   "metadata": {
    "slideshow": {
     "slide_type": "fragment"
    }
   },
   "outputs": [],
   "source": [
    "tabbed_source_code = source_code.replace('\\n', '\\n\\t')\n",
    "\n",
    "print(tabbed_source_code)"
   ]
  },
  {
   "cell_type": "code",
   "execution_count": null,
   "metadata": {
    "slideshow": {
     "slide_type": "slide"
    }
   },
   "outputs": [],
   "source": [
    "from re import match\n",
    "\n",
    "name = match( '\\n*def\\s+([^(]+)\\s*\\(', source_code).group(1)\n",
    "\n",
    "print(name)"
   ]
  },
  {
   "cell_type": "code",
   "execution_count": null,
   "metadata": {
    "slideshow": {
     "slide_type": "fragment"
    }
   },
   "outputs": [],
   "source": [
    "y = 'world'\n",
    "\n",
    "print('def G(x):\\n\\t{}\\n\\treturn {}(x, {!r})'.format(tabbed_source_code, name, y))"
   ]
  },
  {
   "cell_type": "code",
   "execution_count": null,
   "metadata": {
    "collapsed": true,
    "slideshow": {
     "slide_type": "slide"
    }
   },
   "outputs": [],
   "source": [
    "def S(f, y):\n",
    "    name = match('\\n*def\\s+([^(]+)\\s*\\(', f).group(1)\n",
    "    tabbed = f.replace('\\n', '\\n\\t')\n",
    "    g = 'def G(x):\\n\\t{0}\\n\\treturn {1}(x, {2!r})'.format(tabbed, name, y)\n",
    "    return g"
   ]
  },
  {
   "cell_type": "code",
   "execution_count": null,
   "metadata": {
    "slideshow": {
     "slide_type": "fragment"
    }
   },
   "outputs": [],
   "source": [
    "g = S(source_code, 'world')\n",
    "print(g)"
   ]
  },
  {
   "cell_type": "code",
   "execution_count": null,
   "metadata": {
    "slideshow": {
     "slide_type": "fragment"
    }
   },
   "outputs": [],
   "source": [
    "U(g,'Hello, {}!')"
   ]
  },
  {
   "cell_type": "markdown",
   "metadata": {
    "slideshow": {
     "slide_type": "slide"
    }
   },
   "source": [
    "# <center>Kleene's Recursion Theorem</center>"
   ]
  },
  {
   "cell_type": "markdown",
   "metadata": {
    "slideshow": {
     "slide_type": "slide"
    }
   },
   "source": [
    "**Fixed point theorem**: for every *total* funcition $T$, there esists a (source) function $r$ such that the (source) function $T(r)$ computes the same values of the (source) function $r$.\n",
    "\n",
    "In other words, given a *total* function $T$ one has that:\n",
    "\n",
    "$$U(r, x) = U(T(r), x)$$\n",
    "\n",
    "for every $x$."
   ]
  },
  {
   "cell_type": "code",
   "execution_count": null,
   "metadata": {
    "collapsed": true,
    "slideshow": {
     "slide_type": "slide"
    }
   },
   "outputs": [],
   "source": [
    "def T(f):\n",
    "    return 'def G(x): return {0!r}'.format(f)"
   ]
  },
  {
   "cell_type": "code",
   "execution_count": null,
   "metadata": {
    "slideshow": {
     "slide_type": "fragment"
    }
   },
   "outputs": [],
   "source": [
    "f = 'def F(x): return x*x'\n",
    "\n",
    "print(U(T(f), 'does not matter'))"
   ]
  },
  {
   "cell_type": "markdown",
   "metadata": {
    "slideshow": {
     "slide_type": "fragment"
    }
   },
   "source": [
    "A fixed point $r$ for $T$ will be such that $R$ will return (for every input), the source $r$… that is, a quine!"
   ]
  },
  {
   "cell_type": "code",
   "execution_count": null,
   "metadata": {
    "collapsed": true,
    "slideshow": {
     "slide_type": "slide"
    }
   },
   "outputs": [],
   "source": [
    "e = 'def E(x, f): return U(U(f, f), x)'\n",
    "m = 'def M(x): return T(S(e, x))'\n",
    "r = S(e, m)"
   ]
  },
  {
   "cell_type": "markdown",
   "metadata": {
    "slideshow": {
     "slide_type": "fragment"
    }
   },
   "source": [
    "\\begin{align*}\n",
    "  U(r, x) &= U(S(e, m), x) && \\text{by definition of $r$,}\\\\\n",
    "    &= E(x, m)             && \\text{by definition of $S$,}\\\\\n",
    "    &= U(U(m, m), x)       && \\text{by definition of $E$,}\\\\\n",
    "    &= U(M(m), x)          && \\text{by definition of $U$,}\\\\\n",
    "    &= U(T(S(e, m)), x)    && \\text{by definition of $M$,}\\\\\n",
    "    &= U(T(r), x)          && \\text{by definition of $r$.}\n",
    "\\end{align*}"
   ]
  },
  {
   "cell_type": "code",
   "execution_count": null,
   "metadata": {
    "slideshow": {
     "slide_type": "slide"
    }
   },
   "outputs": [],
   "source": [
    "print(r)"
   ]
  },
  {
   "cell_type": "code",
   "execution_count": null,
   "metadata": {
    "slideshow": {
     "slide_type": "fragment"
    }
   },
   "outputs": [],
   "source": [
    "GLOBAL_ENVIRONMENT = {'U': U, 'S': S, 'T': T, 'e': e}\n",
    "\n",
    "print(U(r, 'does not matter'))"
   ]
  },
  {
   "cell_type": "code",
   "execution_count": null,
   "metadata": {
    "slideshow": {
     "slide_type": "slide"
    }
   },
   "outputs": [],
   "source": [
    "m = 'def M(x): return T(S({!r}, x))'.format(e)\n",
    "r = S(e, m)\n",
    "\n",
    "GLOBAL_ENVIRONMENT = {'U': U, 'S': S, 'T': T}\n",
    "\n",
    "print(U(r, 'does not matter'))"
   ]
  },
  {
   "cell_type": "code",
   "execution_count": null,
   "metadata": {
    "slideshow": {
     "slide_type": "fragment"
    }
   },
   "outputs": [],
   "source": [
    "t = r\"def T(f): return 'def G(x): return {0!r}'.format(f)\"\n",
    "\n",
    "m = 'def M(x): return U({!r}, S({!r}, x))'.format(t, e)\n",
    "r = S(e, m)\n",
    "\n",
    "GLOBAL_ENVIRONMENT = {'U': U, 'S': S}\n",
    "\n",
    "print(U(r, 'does not matter'))"
   ]
  },
  {
   "cell_type": "code",
   "execution_count": null,
   "metadata": {
    "slideshow": {
     "slide_type": "slide"
    }
   },
   "outputs": [],
   "source": [
    "m = 'def M(x): return T(S({!r}, x))'.format(e)\n",
    "r = S(e, m)\n",
    "\n",
    "def T(f): return 'def G(x): return {0!r}'.format(f[::-1])\n",
    "\n",
    "GLOBAL_ENVIRONMENT['T'] = T\n",
    "\n",
    "print(U(r, 'does not matter'))"
   ]
  },
  {
   "cell_type": "code",
   "execution_count": null,
   "metadata": {
    "slideshow": {
     "slide_type": "fragment"
    }
   },
   "outputs": [],
   "source": [
    "def T(f): return 'def G(x): return len({0!r})'.format(f)\n",
    "\n",
    "GLOBAL_ENVIRONMENT['T'] = T\n",
    "\n",
    "print(U(r, 'does not matter'), len(r))"
   ]
  },
  {
   "cell_type": "markdown",
   "metadata": {
    "slideshow": {
     "slide_type": "slide"
    }
   },
   "source": [
    "# <center>Rice's Theorem</center>"
   ]
  },
  {
   "cell_type": "markdown",
   "metadata": {
    "collapsed": true,
    "slideshow": {
     "slide_type": "slide"
    }
   },
   "source": [
    "A few definntions:\n",
    "\n",
    "* a class $\\cal F$ of (source) functions **preserves properties** iff\n",
    "\n",
    "$$\n",
    "  f\\in{\\cal F} \\quad\\text{and}\\quad \\forall x\\enspace U(f,x) = U(g,x) \\qquad\\text{implies}\\qquad g\\in{\\cal F};\n",
    "$$\n",
    "\n",
    "* $\\cal F$ can be **decided** iff one can write a *total* function $D$ such that  \n",
    "\n",
    "$$D(f)=\\texttt{true} \\qquad \\text{iff} \\qquad f\\in\\cal F;$$\n",
    "\n",
    "\n",
    "* the empty class and the class containing all the function are said **trivial**."
   ]
  },
  {
   "cell_type": "markdown",
   "metadata": {
    "slideshow": {
     "slide_type": "slide"
    }
   },
   "source": [
    "**Examples** of classes that perserve properties: functions that…\n",
    "    \n",
    "* terminate on evey input,\n",
    "* terminate on a fixed input,\n",
    "* do not contain *bugs* (i.e., computie a given $f$),\n",
    "* have *bounded* domain.\n",
    "\n",
    "Some more esoteric example:\n",
    "\n",
    "* (encode) *regular*, or *context-free* languages,\n",
    "* (encode) the *empty* language, or the language accepting the *empty string*."
   ]
  },
  {
   "cell_type": "markdown",
   "metadata": {
    "slideshow": {
     "slide_type": "slide"
    }
   },
   "source": [
    "<center>![sbod](img/sbod.gif)</center>"
   ]
  },
  {
   "cell_type": "markdown",
   "metadata": {
    "slideshow": {
     "slide_type": "slide"
    }
   },
   "source": [
    "<center>![bug](img/bug.jpg)</center>"
   ]
  },
  {
   "cell_type": "markdown",
   "metadata": {
    "slideshow": {
     "slide_type": "slide"
    }
   },
   "source": [
    "<center>![xray](img/xray.jpg)</center>"
   ]
  },
  {
   "cell_type": "markdown",
   "metadata": {
    "slideshow": {
     "slide_type": "slide"
    }
   },
   "source": [
    "**Theorm**: any non-trivial $\\cal F$ that preserves properties can't be decided."
   ]
  },
  {
   "cell_type": "markdown",
   "metadata": {
    "slideshow": {
     "slide_type": "fragment"
    }
   },
   "source": [
    "**Proof**: let $p\\in\\cal F$ and $q\\not\\in\\cal F$, and consider"
   ]
  },
  {
   "cell_type": "code",
   "execution_count": null,
   "metadata": {
    "collapsed": true,
    "slideshow": {
     "slide_type": "-"
    }
   },
   "outputs": [],
   "source": [
    "def T(f):\n",
    "    if D(f):\n",
    "        return q\n",
    "    else:\n",
    "        return p"
   ]
  },
  {
   "cell_type": "markdown",
   "metadata": {},
   "source": [
    "Let $r$ be the Kleene's fixed point of $T$, if\n",
    "\n",
    "* $r\\in\\cal F$, $D(r)=\\text{true}$ so that $T(r)=q\\not\\in\\cal F$,\n",
    "* $r\\not\\in\\cal F$, $D(r)=\\text{false}$ so that $T(r)=p\\in\\cal F$,\n",
    "\n",
    "but $r$ and $T(r)$ compute the same function so $r\\in\\cal F$ iff $T(r)\\in\\cal F$."
   ]
  },
  {
   "cell_type": "markdown",
   "metadata": {
    "slideshow": {
     "slide_type": "slide"
    }
   },
   "source": [
    "<center>![book](img/book.png)</center>"
   ]
  }
 ],
 "metadata": {
  "celltoolbar": "Slideshow",
  "kernelspec": {
   "display_name": "Python 3",
   "language": "python",
   "name": "python3"
  },
  "language_info": {
   "codemirror_mode": {
    "name": "ipython",
    "version": 3
   },
   "file_extension": ".py",
   "mimetype": "text/x-python",
   "name": "python",
   "nbconvert_exporter": "python",
   "pygments_lexer": "ipython3",
   "version": "3.6.1"
  },
  "livereveal": {
   "controls": false,
   "help": false,
   "slideNumber": false,
   "theme": "serif",
   "transition": "fade"
  }
 },
 "nbformat": 4,
 "nbformat_minor": 2
}
