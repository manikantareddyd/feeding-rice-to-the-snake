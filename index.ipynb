{
 "cells": [
  {
   "cell_type": "markdown",
   "metadata": {
    "slideshow": {
     "slide_type": "slide"
    }
   },
   "source": [
    "# <center>Feeding Rice to the Snake</center>"
   ]
  },
  {
   "cell_type": "markdown",
   "metadata": {
    "collapsed": true,
    "slideshow": {
     "slide_type": "slide"
    }
   },
   "source": [
    "<center>![hands](img/hands.jpg)</center>"
   ]
  },
  {
   "cell_type": "markdown",
   "metadata": {
    "collapsed": true,
    "slideshow": {
     "slide_type": "slide"
    }
   },
   "source": [
    "<center>![barber](img/barber.gif)</center>"
   ]
  },
  {
   "cell_type": "markdown",
   "metadata": {
    "slideshow": {
     "slide_type": "slide"
    }
   },
   "source": [
    "<center>![russe](img/russel.jpg)</center>"
   ]
  },
  {
   "cell_type": "markdown",
   "metadata": {
    "slideshow": {
     "slide_type": "slide"
    }
   },
   "source": [
    "# <center>Quine</center>"
   ]
  },
  {
   "cell_type": "markdown",
   "metadata": {},
   "source": [
    "## <center>Using Python</center>"
   ]
  },
  {
   "cell_type": "code",
   "execution_count": 1,
   "metadata": {
    "scrolled": false,
    "slideshow": {
     "slide_type": "slide"
    }
   },
   "outputs": [
    {
     "name": "stdout",
     "output_type": "stream",
     "text": [
      "ciao\n"
     ]
    }
   ],
   "source": [
    "print('ciao')"
   ]
  },
  {
   "cell_type": "code",
   "execution_count": 2,
   "metadata": {
    "slideshow": {
     "slide_type": "fragment"
    }
   },
   "outputs": [
    {
     "name": "stdout",
     "output_type": "stream",
     "text": [
      "print('ciao')\n"
     ]
    }
   ],
   "source": [
    "print(\"print('ciao')\")"
   ]
  },
  {
   "cell_type": "code",
   "execution_count": 3,
   "metadata": {
    "slideshow": {
     "slide_type": "fragment"
    }
   },
   "outputs": [
    {
     "name": "stdout",
     "output_type": "stream",
     "text": [
      "print(\"print('ciao')\")\n"
     ]
    }
   ],
   "source": [
    "print(\"\"\"print(\"print('ciao')\")\"\"\")"
   ]
  },
  {
   "cell_type": "code",
   "execution_count": 4,
   "metadata": {
    "slideshow": {
     "slide_type": "slide"
    }
   },
   "outputs": [
    {
     "name": "stdout",
     "output_type": "stream",
     "text": [
      "[112, 114, 105, 110, 116, 40, 39, 99, 105, 97, 111, 39, 41]\n"
     ]
    }
   ],
   "source": [
    "source_code = \"print('ciao')\"\n",
    "\n",
    "print('{}'.format(list(map(ord, source_code))))"
   ]
  },
  {
   "cell_type": "code",
   "execution_count": 5,
   "metadata": {
    "slideshow": {
     "slide_type": "fragment"
    }
   },
   "outputs": [
    {
     "name": "stdout",
     "output_type": "stream",
     "text": [
      "print('ciao')\n"
     ]
    }
   ],
   "source": [
    "code = [112, 114, 105, 110, 116, 40, 39, 99, 105, 97, 111, 39, 41]\n",
    "\n",
    "print(''.join(map(chr, code))) "
   ]
  },
  {
   "cell_type": "code",
   "execution_count": 6,
   "metadata": {
    "slideshow": {
     "slide_type": "fragment"
    }
   },
   "outputs": [
    {
     "name": "stdout",
     "output_type": "stream",
     "text": [
      "code = [112, 114, 105, 110, 116, 40, 39, 99, 105, 97, 111, 39, 41]\n",
      "\n",
      "print('ciao')\n"
     ]
    }
   ],
   "source": [
    "code = [112, 114, 105, 110, 116, 40, 39, 99, 105, 97, 111, 39, 41]\n",
    "\n",
    "print('code = {}\\n'.format(code))\n",
    "print(''.join(map(chr, code)))"
   ]
  },
  {
   "cell_type": "code",
   "execution_count": 7,
   "metadata": {
    "slideshow": {
     "slide_type": "slide"
    }
   },
   "outputs": [
    {
     "name": "stdout",
     "output_type": "stream",
     "text": [
      "[10, 112, 114, 105, 110, 116, 40, 39, 99, 111, 100, 101, 32, 61, 32, 1…\n"
     ]
    }
   ],
   "source": [
    "source_code = r\"\"\"\n",
    "print('code = {}\\n'.format(code))\n",
    "print(''.join(map(chr, code)))\n",
    "\"\"\"\n",
    "\n",
    "print('{!s:.70}…'.format(list(map(ord, source_code))))"
   ]
  },
  {
   "cell_type": "code",
   "execution_count": 8,
   "metadata": {
    "slideshow": {
     "slide_type": "fragment"
    }
   },
   "outputs": [
    {
     "name": "stdout",
     "output_type": "stream",
     "text": [
      "code = [112, 114, 105, 110, 116, 40, 39, 99, 111, 100, 101, 32, 61, 32, 123, 125, 92, 110, 39, 46, 102, 111, 114, 109, 97, 116, 40, 99, 111, 100, 101, 41, 41, 10, 112, 114, 105, 110, 116, 40, 39, 39, 46, 106, 111, 105, 110, 40, 109, 97, 112, 40, 99, 104, 114, 44, 32, 99, 111, 100, 101, 41, 41, 41]\n",
      "\n",
      "print('code = {}\\n'.format(code))\n",
      "print(''.join(map(chr, code)))\n"
     ]
    }
   ],
   "source": [
    "code = [112, 114, 105, 110, 116, 40, 39, 99, 111, 100, 101, 32, 61, 32, 123, 125, 92, 110, 39, 46, 102, 111, 114, 109, 97, 116, 40, 99, 111, 100, 101, 41, 41, 10, 112, 114, 105, 110, 116, 40, 39, 39, 46, 106, 111, 105, 110, 40, 109, 97, 112, 40, 99, 104, 114, 44, 32, 99, 111, 100, 101, 41, 41, 41]\n",
    "\n",
    "print('code = {}\\n'.format(code))\n",
    "print(''.join(map(chr, code)))"
   ]
  },
  {
   "cell_type": "markdown",
   "metadata": {
    "slideshow": {
     "slide_type": "slide"
    }
   },
   "source": [
    "## <center>Using C</center>"
   ]
  },
  {
   "cell_type": "code",
   "execution_count": 9,
   "metadata": {
    "slideshow": {
     "slide_type": "slide"
    }
   },
   "outputs": [
    {
     "name": "stdout",
     "output_type": "stream",
     "text": [
      "Overwriting quine.c\n"
     ]
    }
   ],
   "source": [
    "%%file quine.c\n",
    "\n",
    "char code[] = {112, 114, 105, 110, 116, 40, 39, 99, 105, 97, 111, 39, 41, 0};\n",
    "\n",
    "#include <stdio.h>\n",
    "\n",
    "int main(void) {\n",
    "\n",
    "    int i;\n",
    "\n",
    "    printf(\"char code[] = {\");\n",
    "    for (i = 0 ; code[i]; i++) printf(\"%d, \", code[i]);\n",
    "    printf(\"0};\\n\\n\");\n",
    "    for (i = 0 ; code[i]; i++) printf(\"%c\", code[i]);\n",
    "\n",
    "    return 0;\n",
    "}"
   ]
  },
  {
   "cell_type": "code",
   "execution_count": 10,
   "metadata": {
    "slideshow": {
     "slide_type": "fragment"
    }
   },
   "outputs": [
    {
     "name": "stdout",
     "output_type": "stream",
     "text": [
      "char code[] = {112, 114, 105, 110, 116, 40, 39, 99, 105, 97, 111, 39, 41, 0};\r\n",
      "\r\n",
      "print('ciao')"
     ]
    }
   ],
   "source": [
    "!gcc -o quine quine.c && ./quine"
   ]
  },
  {
   "cell_type": "code",
   "execution_count": 11,
   "metadata": {
    "slideshow": {
     "slide_type": "slide"
    }
   },
   "outputs": [
    {
     "name": "stdout",
     "output_type": "stream",
     "text": [
      "[10, 35, 105, 110, 99, 108, 117, 100, 101, 32, 60, 115, 116, 100, 105,…\n"
     ]
    }
   ],
   "source": [
    "source_code = r\"\"\"\n",
    "#include <stdio.h>\n",
    "\n",
    "int main(void) {\n",
    "\n",
    "    int i;\n",
    "\n",
    "    printf(\"char code[] = {\");\n",
    "    for (i = 0 ; code[i]; i++) printf(\"%d, \", code[i]);\n",
    "    printf(\"0};\\n\\n\");\n",
    "    for (i = 0 ; code[i]; i++) printf(\"%c\", code[i]);\n",
    "\n",
    "    return 0;\n",
    "}\n",
    "\"\"\"\n",
    "\n",
    "print('{!s:.70}…'.format(list(map(ord, source_code))))"
   ]
  },
  {
   "cell_type": "code",
   "execution_count": 12,
   "metadata": {
    "slideshow": {
     "slide_type": "slide"
    }
   },
   "outputs": [
    {
     "name": "stdout",
     "output_type": "stream",
     "text": [
      "Overwriting quine.c\n"
     ]
    }
   ],
   "source": [
    "%%file quine.c\n",
    "\n",
    "char code[] = {35, 105, 110, 99, 108, 117, 100, 101, 32, 60, 115, 116, 100, 105, 111, 46, 104, 62, 10, 10, 105, 110, 116, 32, 109, 97, 105, 110, 40, 118, 111, 105, 100, 41, 32, 123, 10, 10, 32, 32, 32, 32, 105, 110, 116, 32, 105, 59, 10, 10, 32, 32, 32, 32, 112, 114, 105, 110, 116, 102, 40, 34, 99, 104, 97, 114, 32, 99, 111, 100, 101, 91, 93, 32, 61, 32, 123, 34, 41, 59, 10, 32, 32, 32, 32, 102, 111, 114, 32, 40, 105, 32, 61, 32, 48, 32, 59, 32, 99, 111, 100, 101, 91, 105, 93, 59, 32, 105, 43, 43, 41, 32, 112, 114, 105, 110, 116, 102, 40, 34, 37, 100, 44, 32, 34, 44, 32, 99, 111, 100, 101, 91, 105, 93, 41, 59, 10, 32, 32, 32, 32, 112, 114, 105, 110, 116, 102, 40, 34, 48, 125, 59, 92, 110, 92, 110, 34, 41, 59, 10, 32, 32, 32, 32, 102, 111, 114, 32, 40, 105, 32, 61, 32, 48, 32, 59, 32, 99, 111, 100, 101, 91, 105, 93, 59, 32, 105, 43, 43, 41, 32, 112, 114, 105, 110, 116, 102, 40, 34, 37, 99, 34, 44, 32, 99, 111, 100, 101, 91, 105, 93, 41, 59, 10, 10, 32, 32, 32, 32, 114, 101, 116, 117, 114, 110, 32, 48, 59, 10, 125, 0};\n",
    "\n",
    "#include <stdio.h>\n",
    "\n",
    "int main(void) {\n",
    "\n",
    "    int i;\n",
    "\n",
    "    printf(\"char code[] = {\");\n",
    "    for (i = 0 ; code[i]; i++) printf(\"%d, \", code[i]);\n",
    "    printf(\"0};\\n\\n\");\n",
    "    for (i = 0 ; code[i]; i++) printf(\"%c\", code[i]);\n",
    "\n",
    "    return 0;\n",
    "}"
   ]
  },
  {
   "cell_type": "code",
   "execution_count": 13,
   "metadata": {
    "slideshow": {
     "slide_type": "slide"
    }
   },
   "outputs": [
    {
     "name": "stdout",
     "output_type": "stream",
     "text": [
      "char code[] = {35, 105, 110, 99, 108, 117, 100, 101, 32, 60, 115, 116,\r\n",
      "\r\n",
      "#include <stdio.h>\r\n",
      "\r\n",
      "int main(void) {\r\n",
      "\r\n",
      "    int i;\r\n",
      "\r\n",
      "    printf(\"char code[] = {\");\r\n",
      "    for (i = 0 ; code[i]; i++) printf(\"%d, \", code[i]);\r\n",
      "    printf(\"0};\\n\\n\");\r\n",
      "    for (i = 0 ; code[i]; i++) printf(\"%c\", code[i]);\r\n",
      "\r\n",
      "    return 0;\r\n",
      "}\r\n"
     ]
    }
   ],
   "source": [
    "!gcc -o quine quine.c && ./quine | cut -b-70"
   ]
  },
  {
   "cell_type": "markdown",
   "metadata": {
    "slideshow": {
     "slide_type": "slide"
    }
   },
   "source": [
    "# <center>Double Quine</center>\n",
    "\n",
    "## <center>C $\\rightarrow$ Python $\\rightarrow$ C</center>"
   ]
  },
  {
   "cell_type": "code",
   "execution_count": 14,
   "metadata": {
    "slideshow": {
     "slide_type": "slide"
    }
   },
   "outputs": [
    {
     "name": "stdout",
     "output_type": "stream",
     "text": [
      "Overwriting double_quine.c\n"
     ]
    }
   ],
   "source": [
    "%%file double_quine.c\n",
    "\n",
    "char code[] = {112, 114, 105, 110, 116, 40, 39, 99, 105, 97, 111, 39, 41, 0};\n",
    "\n",
    "#include <stdio.h>\n",
    "\n",
    "int main(void) {\n",
    "\n",
    "    int i;\n",
    "\n",
    "    printf(\"code = [\");\n",
    "    for (i = 0 ; code[i]; i++) printf(\"%d, \", code[i]);\n",
    "    printf(\"0]\\n\\n\");\n",
    "    for (i = 0 ; code[i]; i++) printf(\"%c\", code[i]);\n",
    "    \n",
    "    return 0;\n",
    "}\n"
   ]
  },
  {
   "cell_type": "code",
   "execution_count": 15,
   "metadata": {
    "slideshow": {
     "slide_type": "fragment"
    }
   },
   "outputs": [
    {
     "name": "stdout",
     "output_type": "stream",
     "text": [
      "ciao\r\n"
     ]
    }
   ],
   "source": [
    "!gcc -o double_quine double_quine.c && ./double_quine | python3"
   ]
  },
  {
   "cell_type": "code",
   "execution_count": 16,
   "metadata": {
    "slideshow": {
     "slide_type": "slide"
    }
   },
   "outputs": [
    {
     "name": "stdout",
     "output_type": "stream",
     "text": [
      "[10, 112, 114, 105, 110, 116, 40, 39, 99, 104, 97, 114, 32, 99, 111, 1…\n"
     ]
    }
   ],
   "source": [
    "source_code=r\"\"\"\n",
    "print('char code[] = {{{}}};\\n'.format(', '.join(map(str, code))))\n",
    "\n",
    "print(r'''#include <stdio.h>\n",
    "\n",
    "int main(void) {\n",
    "\n",
    "    int i;\n",
    "\n",
    "    printf(\"code = [\");\n",
    "    for (i = 0 ; code[i]; i++) printf(\"%d, \", code[i]);\n",
    "    printf(\"0]\\n\\n\");\n",
    "    for (i = 0 ; code[i]; i++) printf(\"%c\", code[i]);\n",
    "    \n",
    "    return 0;\n",
    "}''')\n",
    "\"\"\"\n",
    "\n",
    "print('{!s:.70}…'.format(list(map(ord, source_code))))"
   ]
  },
  {
   "cell_type": "code",
   "execution_count": 17,
   "metadata": {
    "slideshow": {
     "slide_type": "slide"
    }
   },
   "outputs": [
    {
     "name": "stdout",
     "output_type": "stream",
     "text": [
      "Overwriting double_quine.c\n"
     ]
    }
   ],
   "source": [
    "%%file double_quine.c\n",
    "\n",
    "char code[] = {112, 114, 105, 110, 116, 40, 39, 99, 104, 97, 114, 32, 99, 111, 100, 101, 91, 93, 32, 61, 32, 123, 123, 123, 125, 125, 125, 59, 92, 110, 39, 46, 102, 111, 114, 109, 97, 116, 40, 39, 44, 32, 39, 46, 106, 111, 105, 110, 40, 109, 97, 112, 40, 115, 116, 114, 44, 32, 99, 111, 100, 101, 41, 41, 41, 41, 10, 10, 112, 114, 105, 110, 116, 40, 114, 39, 39, 39, 35, 105, 110, 99, 108, 117, 100, 101, 32, 60, 115, 116, 100, 105, 111, 46, 104, 62, 10, 10, 105, 110, 116, 32, 109, 97, 105, 110, 40, 118, 111, 105, 100, 41, 32, 123, 10, 10, 32, 32, 32, 32, 105, 110, 116, 32, 105, 59, 10, 10, 32, 32, 32, 32, 112, 114, 105, 110, 116, 102, 40, 34, 99, 111, 100, 101, 32, 61, 32, 91, 34, 41, 59, 10, 32, 32, 32, 32, 102, 111, 114, 32, 40, 105, 32, 61, 32, 48, 32, 59, 32, 99, 111, 100, 101, 91, 105, 93, 59, 32, 105, 43, 43, 41, 32, 112, 114, 105, 110, 116, 102, 40, 34, 37, 100, 44, 32, 34, 44, 32, 99, 111, 100, 101, 91, 105, 93, 41, 59, 10, 32, 32, 32, 32, 112, 114, 105, 110, 116, 102, 40, 34, 48, 93, 92, 110, 92, 110, 34, 41, 59, 10, 32, 32, 32, 32, 102, 111, 114, 32, 40, 105, 32, 61, 32, 48, 32, 59, 32, 99, 111, 100, 101, 91, 105, 93, 59, 32, 105, 43, 43, 41, 32, 112, 114, 105, 110, 116, 102, 40, 34, 37, 99, 34, 44, 32, 99, 111, 100, 101, 91, 105, 93, 41, 59, 10, 32, 32, 32, 32, 10, 32, 32, 32, 32, 114, 101, 116, 117, 114, 110, 32, 48, 59, 10, 125, 39, 39, 39, 41, 0};\n",
    "\n",
    "#include <stdio.h>\n",
    "\n",
    "int main(void) {\n",
    "\n",
    "    int i;\n",
    "\n",
    "    printf(\"code = [\");\n",
    "    for (i = 0 ; code[i]; i++) printf(\"%d, \", code[i]);\n",
    "    printf(\"0]\\n\\n\");\n",
    "    for (i = 0 ; code[i]; i++) printf(\"%c\", code[i]);\n",
    "    \n",
    "    return 0;\n",
    "}\n"
   ]
  },
  {
   "cell_type": "code",
   "execution_count": 18,
   "metadata": {
    "slideshow": {
     "slide_type": "slide"
    }
   },
   "outputs": [
    {
     "name": "stdout",
     "output_type": "stream",
     "text": [
      "char code[] = {112, 114, 105, 110, 116, 40, 39, 99, 104, 97, 114, 32, \r\n",
      "\r\n",
      "#include <stdio.h>\r\n",
      "\r\n",
      "int main(void) {\r\n",
      "\r\n",
      "    int i;\r\n",
      "\r\n",
      "    printf(\"code = [\");\r\n",
      "    for (i = 0 ; code[i]; i++) printf(\"%d, \", code[i]);\r\n",
      "    printf(\"0]\\n\\n\");\r\n",
      "    for (i = 0 ; code[i]; i++) printf(\"%c\", code[i]);\r\n",
      "    \r\n",
      "    return 0;\r\n",
      "}\r\n"
     ]
    }
   ],
   "source": [
    "!gcc -o double_quine double_quine.c && ./double_quine | python3 | cut -b-70"
   ]
  }
 ],
 "metadata": {
  "celltoolbar": "Slideshow",
  "kernelspec": {
   "display_name": "Python 3",
   "language": "python",
   "name": "python3"
  },
  "language_info": {
   "codemirror_mode": {
    "name": "ipython",
    "version": 3
   },
   "file_extension": ".py",
   "mimetype": "text/x-python",
   "name": "python",
   "nbconvert_exporter": "python",
   "pygments_lexer": "ipython3",
   "version": "3.6.1"
  },
  "livereveal": {
   "controls": false,
   "help": false,
   "slideNumber": false,
   "theme": "serif",
   "transition": "fade"
  }
 },
 "nbformat": 4,
 "nbformat_minor": 2
}
